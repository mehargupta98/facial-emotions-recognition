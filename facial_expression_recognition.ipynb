{
 "cells": [
  {
   "cell_type": "code",
   "execution_count": 55,
   "metadata": {
    "colab": {
     "base_uri": "https://localhost:8080/",
     "height": 119
    },
    "colab_type": "code",
    "id": "FYfZhVK0fZ2V",
    "outputId": "fdd91dff-7571-4fce-cba6-62307f97cfe2"
   },
   "outputs": [],
   "source": [
    "# !git clone https://github.com/muxspace/facial_expressions.git"
   ]
  },
  {
   "cell_type": "code",
   "execution_count": 1,
   "metadata": {
    "colab": {},
    "colab_type": "code",
    "id": "s9g3ri-UfmET"
   },
   "outputs": [],
   "source": [
    "import csv\n",
    "data = {}\n",
    "with open('content/facial_expressions/data/legend.csv') as f:\n",
    "    reader = csv.reader(f)\n",
    "    next(reader)\n",
    "    for row in reader:\n",
    "        key = row[2].lower()\n",
    "        if key in data:\n",
    "            data[key].append(row[1])\n",
    "        else:\n",
    "            data[key] = [row[1]]"
   ]
  },
  {
   "cell_type": "code",
   "execution_count": 2,
   "metadata": {
    "colab": {
     "base_uri": "https://localhost:8080/",
     "height": 153
    },
    "colab_type": "code",
    "id": "VVzU_a67jrGX",
    "outputId": "69fc44c6-923f-4047-d9a7-4b600cee799d"
   },
   "outputs": [
    {
     "data": {
      "text/plain": [
       "['anger',\n",
       " 'surprise',\n",
       " 'disgust',\n",
       " 'fear',\n",
       " 'neutral',\n",
       " 'happiness',\n",
       " 'sadness',\n",
       " 'contempt']"
      ]
     },
     "execution_count": 2,
     "metadata": {},
     "output_type": "execute_result"
    }
   ],
   "source": [
    "emotion_list = list(data.keys())\n",
    "emotion_list"
   ]
  },
  {
   "cell_type": "code",
   "execution_count": 3,
   "metadata": {
    "colab": {},
    "colab_type": "code",
    "id": "vHbst716k2KO"
   },
   "outputs": [],
   "source": [
    "import os\n",
    "\n",
    "os.mkdir('content/master_data')\n",
    "os.mkdir('content/master_data/training')\n",
    "os.mkdir('content/master_data/testing')"
   ]
  },
  {
   "cell_type": "code",
   "execution_count": 4,
   "metadata": {
    "colab": {},
    "colab_type": "code",
    "id": "yVQ7jkssk9cd"
   },
   "outputs": [],
   "source": [
    "for emotion in emotion_list:\n",
    "    os.mkdir(os.path.join('content/master_data/training/', emotion))\n",
    "    os.mkdir(os.path.join('content/master_data/testing/', emotion))"
   ]
  },
  {
   "cell_type": "code",
   "execution_count": 5,
   "metadata": {
    "colab": {},
    "colab_type": "code",
    "id": "5NAIPMkLlIj1"
   },
   "outputs": [],
   "source": [
    "from shutil import copyfile\n",
    "split_size = 0.8\n",
    "\n",
    "for emotion, images in data.items():\n",
    "    train_size = int(split_size*len(images))\n",
    "    train_images = images[:train_size]\n",
    "    test_images = images[train_size:]\n",
    "    for image in train_images:\n",
    "        source = os.path.join('content/facial_expressions/images', image)\n",
    "        dest = os.path.join('content/master_data/training', emotion, image)\n",
    "        copyfile(source, dest)\n",
    "    for image in test_images:\n",
    "        source = os.path.join('content/facial_expressions/images', image)\n",
    "        dest = os.path.join('content/master_data/testing', emotion, image)\n",
    "        copyfile(source, dest)"
   ]
  },
  {
   "cell_type": "code",
   "execution_count": 6,
   "metadata": {
    "colab": {
     "base_uri": "https://localhost:8080/",
     "height": 63
    },
    "colab_type": "code",
    "id": "9nUCakLgmSNp",
    "outputId": "820c231a-6bca-4e81-ff8b-36640c77fc9e"
   },
   "outputs": [],
   "source": [
    "import tensorflow as tf\n",
    "from tensorflow.keras.preprocessing.image import ImageDataGenerator\n",
    "from tensorflow.keras.optimizers import Adam\n",
    "from tensorflow.keras.callbacks import EarlyStopping\n",
    "from tensorflow.keras.layers import Conv2D, MaxPooling2D, Dense, Flatten"
   ]
  },
  {
   "cell_type": "code",
   "execution_count": 7,
   "metadata": {
    "colab": {
     "base_uri": "https://localhost:8080/",
     "height": 459
    },
    "colab_type": "code",
    "id": "dSYxzkfjnduI",
    "outputId": "820ad9b8-eb62-4db5-ba8b-035a9fd1004d"
   },
   "outputs": [
    {
     "name": "stdout",
     "output_type": "stream",
     "text": [
      "WARNING:tensorflow:From /Users/mehargupta/opt/anaconda3/envs/tf/lib/python3.7/site-packages/tensorflow_core/python/ops/resource_variable_ops.py:1630: calling BaseResourceVariable.__init__ (from tensorflow.python.ops.resource_variable_ops) with constraint is deprecated and will be removed in a future version.\n",
      "Instructions for updating:\n",
      "If using Keras pass *_constraint arguments to layers.\n",
      "Model: \"sequential\"\n",
      "_________________________________________________________________\n",
      "Layer (type)                 Output Shape              Param #   \n",
      "=================================================================\n",
      "conv2d (Conv2D)              (None, 98, 98, 16)        448       \n",
      "_________________________________________________________________\n",
      "max_pooling2d (MaxPooling2D) (None, 49, 49, 16)        0         \n",
      "_________________________________________________________________\n",
      "conv2d_1 (Conv2D)            (None, 47, 47, 32)        4640      \n",
      "_________________________________________________________________\n",
      "max_pooling2d_1 (MaxPooling2 (None, 23, 23, 32)        0         \n",
      "_________________________________________________________________\n",
      "conv2d_2 (Conv2D)            (None, 21, 21, 64)        18496     \n",
      "_________________________________________________________________\n",
      "max_pooling2d_2 (MaxPooling2 (None, 10, 10, 64)        0         \n",
      "_________________________________________________________________\n",
      "flatten (Flatten)            (None, 6400)              0         \n",
      "_________________________________________________________________\n",
      "dense (Dense)                (None, 1024)              6554624   \n",
      "_________________________________________________________________\n",
      "dense_1 (Dense)              (None, 8)                 8200      \n",
      "=================================================================\n",
      "Total params: 6,586,408\n",
      "Trainable params: 6,586,408\n",
      "Non-trainable params: 0\n",
      "_________________________________________________________________\n"
     ]
    }
   ],
   "source": [
    "model = tf.keras.models.Sequential([\n",
    "      Conv2D(16, (3,3), activation='relu', input_shape = (100, 100, 3)),\n",
    "      MaxPooling2D(2, 2),\n",
    "      Conv2D(32, (3,3), activation='relu'),\n",
    "      MaxPooling2D(2, 2),\n",
    "      Conv2D(64, (3,3), activation='relu'),\n",
    "      MaxPooling2D(2, 2),\n",
    "      Flatten(),\n",
    "      Dense(1024, activation='relu'),\n",
    "      Dense(8, activation='softmax')\n",
    "])\n",
    "model.compile(optimizer = Adam(lr = 0.01), loss = 'categorical_crossentropy', metrics = ['acc'])\n",
    "model.summary()"
   ]
  },
  {
   "cell_type": "code",
   "execution_count": 8,
   "metadata": {
    "colab": {
     "base_uri": "https://localhost:8080/",
     "height": 51
    },
    "colab_type": "code",
    "id": "xo-O0elhqXWg",
    "outputId": "bd3187bb-47b4-4cc5-b04d-b02090cf4ec4"
   },
   "outputs": [
    {
     "name": "stdout",
     "output_type": "stream",
     "text": [
      "Found 10941 images belonging to 8 classes.\n",
      "Found 2742 images belonging to 8 classes.\n"
     ]
    }
   ],
   "source": [
    "train_dir = 'content/master_data/training'\n",
    "test_dir = 'content/master_data/testing'\n",
    "\n",
    "train_datagen = ImageDataGenerator(rescale = 1.0/255)\n",
    "train_generator = train_datagen.flow_from_directory(\n",
    "                                                    train_dir,\n",
    "                                                    target_size = (100, 100),\n",
    "                                                    class_mode = 'categorical',\n",
    "                                                    batch_size = 128\n",
    "                                                  )\n",
    "\n",
    "test_datagen = ImageDataGenerator(rescale = 1.0/255)\n",
    "test_generator = test_datagen.flow_from_directory(\n",
    "                                                    test_dir,\n",
    "                                                    target_size = (100, 100),\n",
    "                                                    class_mode = 'categorical',\n",
    "                                                    batch_size = 128\n",
    "                                                  )"
   ]
  },
  {
   "cell_type": "code",
   "execution_count": 9,
   "metadata": {
    "colab": {},
    "colab_type": "code",
    "id": "YCI0xQtlsbYc"
   },
   "outputs": [],
   "source": [
    "es = EarlyStopping(monitor='val_acc', patience = 2, min_delta=0.01)"
   ]
  },
  {
   "cell_type": "code",
   "execution_count": 10,
   "metadata": {
    "colab": {
     "base_uri": "https://localhost:8080/",
     "height": 340
    },
    "colab_type": "code",
    "id": "jMBsgMIqs_GP",
    "outputId": "5c744868-1940-4ab8-eb34-caaf316f3ad7"
   },
   "outputs": [
    {
     "name": "stderr",
     "output_type": "stream",
     "text": [
      "2022-05-04 17:13:42.741175: I tensorflow/core/platform/cpu_feature_guard.cc:145] This TensorFlow binary is optimized with Intel(R) MKL-DNN to use the following CPU instructions in performance critical operations:  SSE4.1 SSE4.2\n",
      "To enable them in non-MKL-DNN operations, rebuild TensorFlow with the appropriate compiler flags.\n",
      "2022-05-04 17:13:42.742320: I tensorflow/core/common_runtime/process_util.cc:115] Creating new thread pool with default inter op setting: 10. Tune using inter_op_parallelism_threads for best performance.\n"
     ]
    },
    {
     "name": "stdout",
     "output_type": "stream",
     "text": [
      "Epoch 1/10\n",
      "85/86 [============================>.] - ETA: 3s - loss: 1.2580 - acc: 0.4921Epoch 1/10\n",
      "86/86 [==============================] - 329s 4s/step - loss: 1.2546 - acc: 0.4929 - val_loss: 1.0256 - val_acc: 0.5715\n",
      "Epoch 2/10\n",
      "85/86 [============================>.] - ETA: 2s - loss: 0.9008 - acc: 0.6539Epoch 1/10\n",
      "86/86 [==============================] - 257s 3s/step - loss: 0.9005 - acc: 0.6537 - val_loss: 0.9203 - val_acc: 0.6506\n",
      "Epoch 3/10\n",
      "85/86 [============================>.] - ETA: 2s - loss: 0.7797 - acc: 0.7272Epoch 1/10\n",
      "86/86 [==============================] - 255s 3s/step - loss: 0.7800 - acc: 0.7267 - val_loss: 0.9947 - val_acc: 0.6411\n",
      "Epoch 4/10\n",
      "85/86 [============================>.] - ETA: 2s - loss: 0.7127 - acc: 0.7525Epoch 1/10\n",
      "86/86 [==============================] - 223s 3s/step - loss: 0.7123 - acc: 0.7529 - val_loss: 0.9137 - val_acc: 0.6721\n",
      "Epoch 5/10\n",
      "85/86 [============================>.] - ETA: 2s - loss: 0.6285 - acc: 0.7830Epoch 1/10\n",
      "86/86 [==============================] - 227s 3s/step - loss: 0.6276 - acc: 0.7835 - val_loss: 0.9114 - val_acc: 0.6823\n",
      "Epoch 6/10\n",
      "85/86 [============================>.] - ETA: 2s - loss: 0.5787 - acc: 0.7980Epoch 1/10\n",
      "86/86 [==============================] - 244s 3s/step - loss: 0.5783 - acc: 0.7984 - val_loss: 1.7210 - val_acc: 0.6196\n",
      "Epoch 7/10\n",
      "85/86 [============================>.] - ETA: 2s - loss: 0.5723 - acc: 0.8004Epoch 1/10\n",
      "86/86 [==============================] - 200s 2s/step - loss: 0.5731 - acc: 0.8003 - val_loss: 1.0674 - val_acc: 0.6499\n"
     ]
    },
    {
     "data": {
      "text/plain": [
       "<tensorflow.python.keras.callbacks.History at 0x7ff623c49890>"
      ]
     },
     "execution_count": 10,
     "metadata": {},
     "output_type": "execute_result"
    }
   ],
   "source": [
    "model.fit_generator(train_generator,\n",
    "                    epochs = 10,\n",
    "                    verbose = 1,\n",
    "                    validation_data = test_generator,\n",
    "                    callbacks = [es])"
   ]
  },
  {
   "cell_type": "code",
   "execution_count": null,
   "metadata": {},
   "outputs": [],
   "source": []
  }
 ],
 "metadata": {
  "accelerator": "GPU",
  "colab": {
   "collapsed_sections": [],
   "name": "facial_expression_recognition.ipynb",
   "provenance": []
  },
  "kernelspec": {
   "display_name": "Python 3 (ipykernel)",
   "language": "python",
   "name": "python3"
  },
  "language_info": {
   "codemirror_mode": {
    "name": "ipython",
    "version": 3
   },
   "file_extension": ".py",
   "mimetype": "text/x-python",
   "name": "python",
   "nbconvert_exporter": "python",
   "pygments_lexer": "ipython3",
   "version": "3.7.13"
  }
 },
 "nbformat": 4,
 "nbformat_minor": 4
}
